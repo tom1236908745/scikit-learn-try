{
  "nbformat": 4,
  "nbformat_minor": 0,
  "metadata": {
    "colab": {
      "provenance": [],
      "collapsed_sections": [],
      "authorship_tag": "ABX9TyN8lstNqklORngZtf9qqUis",
      "include_colab_link": true
    },
    "kernelspec": {
      "name": "python3",
      "display_name": "Python 3"
    },
    "language_info": {
      "name": "python"
    }
  },
  "cells": [
    {
      "cell_type": "markdown",
      "metadata": {
        "id": "view-in-github",
        "colab_type": "text"
      },
      "source": [
        "<a href=\"https://colab.research.google.com/github/tom1236908745/scikit-learn-try/blob/main/mindata_keras.ipynb\" target=\"_parent\"><img src=\"https://colab.research.google.com/assets/colab-badge.svg\" alt=\"Open In Colab\"/></a>"
      ]
    },
    {
      "cell_type": "code",
      "execution_count": null,
      "metadata": {
        "id": "sLmNyc1Gknsd",
        "colab": {
          "base_uri": "https://localhost:8080/"
        },
        "outputId": "7e90e63b-a1da-451d-bc2b-eecce4ee7b94"
      },
      "outputs": [
        {
          "output_type": "stream",
          "name": "stdout",
          "text": [
            "   a  b\n",
            "0  1  1\n",
            "1  2  2\n",
            "2  3  3\n",
            "3  4  4\n",
            "4  6  5\n",
            "   a  b\n",
            "1  2  2\n",
            "2  3  3\n",
            "3  4  4\n",
            "4  6  5\n",
            "   a  b\n",
            "0  1  1\n"
          ]
        }
      ],
      "source": [
        "import pandas as pd\n",
        "from sklearn.model_selection import train_test_split\n",
        "df=pd.DataFrame({\"a\":[1,2,3,4,6],\"b\":[1,2,3,4,5]})\n",
        "print(df)\n",
        "train_x, test_x = train_test_split(df, train_size=4, test_size=1)\n",
        "print(train_x)\n",
        "print(test_x)"
      ]
    },
    {
      "cell_type": "code",
      "source": [
        "from keras.datasets import mnist\n",
        "\n",
        "(x_train, y_train), (x_test, y_test) = mnist.load_data()\n",
        "\n",
        "from keras.utils.np_utils import to_categorical\n",
        "\n",
        "\n",
        "# 画像を1次元化\n",
        "x_train = x_train.reshape(60000, 784)\n",
        "x_test = x_test.reshape(10000, 784)\n",
        "\n",
        "# 画素を0~1の範囲に変換(正規化)\n",
        "x_train = x_train.astype('float32') / 255\n",
        "x_test = x_test.astype('float32') / 255\n",
        "\n",
        "# 正解ラベルをone-hot-encoding\n",
        "y_train = to_categorical(y_train, 10)\n",
        "y_test = to_categorical(y_test, 10)\n",
        "\n",
        "from keras.models import Sequential\n",
        "from keras.layers import Dense\n",
        "\n",
        "model = Sequential()\n",
        "model.add(Dense(64, activation='relu', input_dim=784))\n",
        "model.add(Dense(10, activation='softmax'))\n",
        "\n",
        "model.compile(optimizer='rmsprop',\n",
        "              loss='categorical_crossentropy',\n",
        "              metrics=['accuracy'])\n",
        "\n",
        "model.fit(x_train, y_train,\n",
        "            batch_size=100,\n",
        "            epochs=12,\n",
        "            verbose=1)\n",
        "\n",
        "score = model.evaluate(x_test, y_test)\n",
        "print(score[0])\n",
        "print(score[1])"
      ],
      "metadata": {
        "id": "unQJ35SO6PXC",
        "outputId": "6158f0cf-07a9-46d7-e3e2-d3da224459d8",
        "colab": {
          "base_uri": "https://localhost:8080/"
        }
      },
      "execution_count": null,
      "outputs": [
        {
          "output_type": "stream",
          "name": "stdout",
          "text": [
            "Downloading data from https://storage.googleapis.com/tensorflow/tf-keras-datasets/mnist.npz\n",
            "11493376/11490434 [==============================] - 0s 0us/step\n",
            "11501568/11490434 [==============================] - 0s 0us/step\n",
            "Epoch 1/12\n",
            "600/600 [==============================] - 3s 4ms/step - loss: 0.3725 - accuracy: 0.8988\n",
            "Epoch 2/12\n",
            "600/600 [==============================] - 2s 4ms/step - loss: 0.1913 - accuracy: 0.9457\n",
            "Epoch 3/12\n",
            "600/600 [==============================] - 2s 4ms/step - loss: 0.1439 - accuracy: 0.9593\n",
            "Epoch 4/12\n",
            "600/600 [==============================] - 2s 3ms/step - loss: 0.1174 - accuracy: 0.9664\n",
            "Epoch 5/12\n",
            "600/600 [==============================] - 2s 3ms/step - loss: 0.0996 - accuracy: 0.9707\n",
            "Epoch 6/12\n",
            "600/600 [==============================] - 2s 3ms/step - loss: 0.0861 - accuracy: 0.9743\n",
            "Epoch 7/12\n",
            "600/600 [==============================] - 2s 3ms/step - loss: 0.0759 - accuracy: 0.9780\n",
            "Epoch 8/12\n",
            "600/600 [==============================] - 2s 3ms/step - loss: 0.0676 - accuracy: 0.9798\n",
            "Epoch 9/12\n",
            "600/600 [==============================] - 2s 3ms/step - loss: 0.0611 - accuracy: 0.9822\n",
            "Epoch 10/12\n",
            "600/600 [==============================] - 2s 3ms/step - loss: 0.0561 - accuracy: 0.9839\n",
            "Epoch 11/12\n",
            "600/600 [==============================] - 2s 3ms/step - loss: 0.0508 - accuracy: 0.9852\n",
            "Epoch 12/12\n",
            "600/600 [==============================] - 2s 3ms/step - loss: 0.0467 - accuracy: 0.9864\n",
            "313/313 [==============================] - 1s 2ms/step - loss: 0.0895 - accuracy: 0.9731\n",
            "0.08946096897125244\n",
            "0.9731000065803528\n"
          ]
        }
      ]
    }
  ]
}